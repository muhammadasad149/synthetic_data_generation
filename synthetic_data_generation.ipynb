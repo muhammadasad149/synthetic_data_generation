{
  "cells": [
    {
      "cell_type": "markdown",
      "metadata": {
        "id": "view-in-github",
        "colab_type": "text"
      },
      "source": [
        "<a href=\"https://colab.research.google.com/github/sudarshan-koirala/youtube-stuffs/blob/main/langchain/synthetic_data_generation.ipynb\" target=\"_parent\"><img src=\"https://colab.research.google.com/assets/colab-badge.svg\" alt=\"Open In Colab\"/></a>"
      ]
    },
    {
      "cell_type": "raw",
      "id": "1302a608-4b4d-46bf-bd0c-b4f13eff2e5e",
      "metadata": {
        "id": "1302a608-4b4d-46bf-bd0c-b4f13eff2e5e"
      },
      "source": [
        "# Synthetic data generation [Main LangChain Documentation](https://python.langchain.com/docs/use_cases/data_generation)\n",
        "\n",
        "## [Youtube video covering this notebook](https://youtu.be/hDTLt8UbWYg)"
      ]
    },
    {
      "cell_type": "markdown",
      "source": [
        "### How Is it done ??\n",
        "### Before GenAI emerged (Well, this is used still in many companies but **GenAI is what everyone is talking about these days** )\n",
        "Some of the modelling techniques used:\n",
        "- Classic statistical methods\n",
        "- Deep Learning models (GAN , VAE behind the scene)\n",
        "- Mix of classic statistical models and Deep Learning.\n",
        "\n",
        "Once synthetic data is generated, we need to evaluate it to make sure it is OK to use in downstream tasks. There are many libraries, websites offering these kind of solutions. But here, we focus in GenAI part."
      ],
      "metadata": {
        "id": "0AtyLRnxSD2g"
      },
      "id": "0AtyLRnxSD2g"
    },
    {
      "cell_type": "markdown",
      "id": "aa3571cc",
      "metadata": {
        "id": "aa3571cc"
      },
      "source": [
        "## Use case\n",
        "\n",
        "Synthetic data refers to artificially generated data that imitates the characteristics of real data without containing any information from actual individuals or entities. It is typically created through mathematical models, algorithms, or other data generation techniques. Synthetic data can be used for a variety of purposes, including testing, research, and training machine learning models, while preserving privacy and security.\n",
        "\n",
        "Benefits of Synthetic Data:\n",
        "\n",
        "1. **Privacy and Security**: No real personal data at risk of breaches.\n",
        "2. **Data Augmentation**: Expands datasets for machine learning.\n",
        "3. **Flexibility**: Create specific or rare scenarios.\n",
        "4. **Cost-effective**: Often cheaper than real-world data collection.\n",
        "5. **Regulatory Compliance**: Helps navigate strict data protection laws.\n",
        "6. **Model Robustness**: Can lead to better generalizing AI models.\n",
        "7. **Rapid Prototyping**: Enables quick testing without real data.\n",
        "8. **Controlled Experimentation**: Simulate specific conditions.\n",
        "9. **Access to Data**: Alternative when real data isn't available.\n",
        "\n",
        "**Note: Despite the benefits, synthetic data should be used carefully, as it may not always capture real-world complexities.**"
      ]
    },
    {
      "cell_type": "markdown",
      "source": [
        "## Quickstart\n",
        "\n",
        "In this notebook, we'll dive deep into generating synthetic medical billing records using the langchain library. This tool is particularly useful when you want to develop or test algorithms but don't want to use real patient data due to privacy concerns or data availability issues."
      ],
      "metadata": {
        "id": "EQ1qYxSgbDMt"
      },
      "id": "EQ1qYxSgbDMt"
    },
    {
      "cell_type": "markdown",
      "id": "bca57012",
      "metadata": {
        "id": "bca57012"
      },
      "source": [
        "## Setup\n",
        "- First, you'll need to have the langchain library installed, along with its dependencies. Since we're using the OpenAI generator chain, we'll install that as well. Since this is an experimental lib, we'll need to include `langchain_experimental` in our installs.\n",
        "- [Pydantic](https://docs.pydantic.dev/latest/): Data validation library for Python"
      ]
    },
    {
      "cell_type": "code",
      "execution_count": null,
      "id": "a0377478",
      "metadata": {
        "id": "a0377478"
      },
      "outputs": [],
      "source": [
        "%%capture\n",
        "!pip install -U langchain langchain_experimental openai"
      ]
    },
    {
      "cell_type": "code",
      "source": [
        "# set environment variables\n",
        "# https://platform.openai.com/account/api-keys\n",
        "import os\n",
        "os.environ[\"OPENAI_API_KEY\"] = \"OPENAI_API_KEY\""
      ],
      "metadata": {
        "id": "7bDU3j-Zb0Jf"
      },
      "id": "7bDU3j-Zb0Jf",
      "execution_count": null,
      "outputs": []
    },
    {
      "cell_type": "code",
      "source": [
        "from langchain.prompts import FewShotPromptTemplate, PromptTemplate\n",
        "from langchain.chat_models import ChatOpenAI\n",
        "from langchain.pydantic_v1 import BaseModel\n",
        "from langchain_experimental.tabular_synthetic_data.base import SyntheticDataGenerator\n",
        "from langchain_experimental.tabular_synthetic_data.openai import create_openai_data_generator, OPENAI_TEMPLATE\n",
        "from langchain_experimental.tabular_synthetic_data.prompts import SYNTHETIC_FEW_SHOT_SUFFIX, SYNTHETIC_FEW_SHOT_PREFIX"
      ],
      "metadata": {
        "id": "e3kkn3SlbzBF"
      },
      "id": "e3kkn3SlbzBF",
      "execution_count": null,
      "outputs": []
    },
    {
      "cell_type": "markdown",
      "id": "a5a0917b",
      "metadata": {
        "id": "a5a0917b"
      },
      "source": [
        "## 1. Define Your Data Model\n",
        "- Every dataset has a structure or a \"schema\".\n",
        "- The MedicalBilling class below serves as our schema for the synthetic data.\n",
        "- By defining this, we're informing our synthetic data generator about the shape and nature of data we expect."
      ]
    },
    {
      "cell_type": "code",
      "execution_count": null,
      "id": "291bad6e",
      "metadata": {
        "id": "291bad6e"
      },
      "outputs": [],
      "source": [
        "class MedicalBilling(BaseModel):\n",
        "    patient_id: int\n",
        "    patient_name: str\n",
        "    diagnosis_code: str\n",
        "    procedure_code: str\n",
        "    total_charge: float\n",
        "    insurance_claim_amount: float\n"
      ]
    },
    {
      "cell_type": "markdown",
      "id": "2059ca63",
      "metadata": {
        "id": "2059ca63"
      },
      "source": [
        "## 2. Sample Data\n",
        "To guide the synthetic data generator, it's useful to provide it with a few real-world-like examples. These examples serve as a \"seed\" - they're representative of the kind of data you want, and the generator will use them to create more data that looks similar.\n",
        "\n",
        "Here are some fictional medical billing records:"
      ]
    },
    {
      "cell_type": "code",
      "execution_count": null,
      "id": "b989b792",
      "metadata": {
        "id": "b989b792"
      },
      "outputs": [],
      "source": [
        "examples = [\n",
        "    {\"example\": \"\"\"Patient ID: 123456, Patient Name: John Doe, Diagnosis Code:\n",
        "        J20.9, Procedure Code: 99203, Total Charge: $500, Insurance Claim Amount: $350\"\"\"},\n",
        "    {\"example\": \"\"\"Patient ID: 789012, Patient Name: Johnson Smith, Diagnosis\n",
        "        Code: M54.5, Procedure Code: 99213, Total Charge: $150, Insurance Claim Amount: $120\"\"\"},\n",
        "    {\"example\": \"\"\"Patient ID: 345678, Patient Name: Emily Stone, Diagnosis Code:\n",
        "        E11.9, Procedure Code: 99214, Total Charge: $300, Insurance Claim Amount: $250\"\"\"},\n",
        "]"
      ]
    },
    {
      "cell_type": "markdown",
      "id": "57e28809",
      "metadata": {
        "id": "57e28809"
      },
      "source": [
        "## 3. Craft a Prompt Template\n",
        "The generator doesn't magically know how to create our data; we need to guide it. We do this by creating a prompt template. This template helps instruct the underlying language model on how to produce synthetic data in the desired format."
      ]
    },
    {
      "cell_type": "code",
      "execution_count": null,
      "id": "ea6e042e",
      "metadata": {
        "id": "ea6e042e"
      },
      "outputs": [],
      "source": [
        "OPENAI_TEMPLATE = PromptTemplate(input_variables=[\"example\"], template=\"{example}\")\n",
        "\n",
        "prompt_template = FewShotPromptTemplate(\n",
        "    prefix=SYNTHETIC_FEW_SHOT_PREFIX,\n",
        "    examples=examples,\n",
        "    suffix=SYNTHETIC_FEW_SHOT_SUFFIX,\n",
        "    input_variables=[\"subject\", \"extra\"],\n",
        "    example_prompt=OPENAI_TEMPLATE,\n",
        ")"
      ]
    },
    {
      "cell_type": "markdown",
      "id": "fa6da3cb",
      "metadata": {
        "id": "fa6da3cb"
      },
      "source": [
        "The `FewShotPromptTemplate` includes:\n",
        "\n",
        "- `prefix` and `suffix`: These likely contain guiding context or instructions.\n",
        "- `examples`: The sample data we defined earlier.\n",
        "- `input_variables`: These variables (\"subject\", \"extra\") are placeholders you can dynamically fill later. For instance, \"subject\" might be filled with \"medical_billing\" to guide the model further.\n",
        "- `example_prompt`: This prompt template is the format we want each example row to take in our prompt."
      ]
    },
    {
      "cell_type": "markdown",
      "source": [
        "## 4. Creating the Data Generator\n",
        "With the schema and the prompt ready, the next step is to create the data generator. This object knows how to communicate with the underlying language model to get synthetic data."
      ],
      "metadata": {
        "id": "pI5oGS-fchEi"
      },
      "id": "pI5oGS-fchEi"
    },
    {
      "cell_type": "code",
      "execution_count": null,
      "id": "1b9ba911",
      "metadata": {
        "id": "1b9ba911"
      },
      "outputs": [],
      "source": [
        "synthetic_data_generator = create_openai_data_generator(\n",
        "    output_schema=MedicalBilling,\n",
        "    llm=ChatOpenAI(temperature=1),\n",
        "    prompt=prompt_template,\n",
        ")"
      ]
    },
    {
      "cell_type": "markdown",
      "id": "a4198bd6",
      "metadata": {
        "id": "a4198bd6"
      },
      "source": [
        "## 5. Generate Synthetic Data\n",
        "Finally, let's get our synthetic data!"
      ]
    },
    {
      "cell_type": "code",
      "execution_count": null,
      "id": "a424c890",
      "metadata": {
        "id": "a424c890"
      },
      "outputs": [],
      "source": [
        "synthetic_results = synthetic_data_generator.generate(\n",
        "    subject=\"medical_billing\",\n",
        "    extra=\"the name must be chosen at random. Make it something you wouldn't normally choose.\",\n",
        "    runs=10,\n",
        ")"
      ]
    },
    {
      "cell_type": "markdown",
      "id": "fa4402e9",
      "metadata": {
        "id": "fa4402e9"
      },
      "source": [
        "This command asks the generator to produce 10 synthetic medical billing records. The results are stored in `synthetic_results`. The output will be a list of the MedicalBilling pydantic models."
      ]
    },
    {
      "cell_type": "code",
      "source": [
        "type(synthetic_results)"
      ],
      "metadata": {
        "colab": {
          "base_uri": "https://localhost:8080/"
        },
        "id": "8lIQ7XaJeIsv",
        "outputId": "0ea3c614-8b5b-44c0-ea93-3085b700ec60"
      },
      "id": "8lIQ7XaJeIsv",
      "execution_count": null,
      "outputs": [
        {
          "output_type": "execute_result",
          "data": {
            "text/plain": [
              "list"
            ]
          },
          "metadata": {},
          "execution_count": 19
        }
      ]
    },
    {
      "cell_type": "markdown",
      "source": [
        "## 6. Visualize the Generated Synthetic Data"
      ],
      "metadata": {
        "id": "NV99vyuGc_us"
      },
      "id": "NV99vyuGc_us"
    },
    {
      "cell_type": "code",
      "execution_count": null,
      "id": "0b03de4d",
      "metadata": {
        "id": "0b03de4d",
        "colab": {
          "base_uri": "https://localhost:8080/"
        },
        "outputId": "e65cd16a-d6ad-474b-f1ae-e58717f04891"
      },
      "outputs": [
        {
          "output_type": "execute_result",
          "data": {
            "text/plain": [
              "10"
            ]
          },
          "metadata": {},
          "execution_count": 18
        }
      ],
      "source": [
        "len(synthetic_results)"
      ]
    },
    {
      "cell_type": "code",
      "source": [
        "synthetic_results"
      ],
      "metadata": {
        "colab": {
          "base_uri": "https://localhost:8080/"
        },
        "id": "U4xA8dAAc-DY",
        "outputId": "1271d4b1-1eb6-476a-8377-ae1182987dd6"
      },
      "id": "U4xA8dAAc-DY",
      "execution_count": null,
      "outputs": [
        {
          "output_type": "execute_result",
          "data": {
            "text/plain": [
              "[MedicalBilling(patient_id=987654, patient_name='Amy Johnson', diagnosis_code='C34.90', procedure_code='99204', total_charge=400.0, insurance_claim_amount=300.0),\n",
              " MedicalBilling(patient_id=123456, patient_name='Sophia Martinez', diagnosis_code='A09.0', procedure_code='99215', total_charge=500.0, insurance_claim_amount=400.0),\n",
              " MedicalBilling(patient_id=123456789, patient_name='Oliver Johnson', diagnosis_code='M54.5', procedure_code='99213', total_charge=200.0, insurance_claim_amount=150.0),\n",
              " MedicalBilling(patient_id=987654321, patient_name='Xavier Smith', diagnosis_code='I10', procedure_code='99203', total_charge=350.0, insurance_claim_amount=250.0),\n",
              " MedicalBilling(patient_id=987654321, patient_name='Emma Johnson', diagnosis_code='N18.9', procedure_code='99214', total_charge=450.0, insurance_claim_amount=400.0),\n",
              " MedicalBilling(patient_id=987654322, patient_name='Elijah Thompson', diagnosis_code='G20', procedure_code='99215', total_charge=500.0, insurance_claim_amount=450.0),\n",
              " MedicalBilling(patient_id=123456789, patient_name='Lila Cooper', diagnosis_code='J45.0', procedure_code='99204', total_charge=400.0, insurance_claim_amount=350.0),\n",
              " MedicalBilling(patient_id=987654321, patient_name='Sophia Adams', diagnosis_code='E11.9', procedure_code='99213', total_charge=350.0, insurance_claim_amount=300.0),\n",
              " MedicalBilling(patient_id=987654321, patient_name='Xavier Johnson', diagnosis_code='I10', procedure_code='99214', total_charge=450.0, insurance_claim_amount=400.0),\n",
              " MedicalBilling(patient_id=987654321, patient_name='Oliver Smith', diagnosis_code='K35.9', procedure_code='99215', total_charge=500.0, insurance_claim_amount=450.0)]"
            ]
          },
          "metadata": {},
          "execution_count": 10
        }
      ]
    },
    {
      "cell_type": "markdown",
      "source": [
        "## 7. Converting the synthetic data into Pandas Dataframe"
      ],
      "metadata": {
        "id": "XJ3vfh9UfyLS"
      },
      "id": "XJ3vfh9UfyLS"
    },
    {
      "cell_type": "code",
      "source": [
        "import pandas as pd\n",
        "\n",
        "# Create a list of dictionaries from the objects\n",
        "synthetic_data = []\n",
        "for item in synthetic_results:\n",
        "    synthetic_data.append({\n",
        "        'patient_id': item.patient_id,\n",
        "        'patient_name': item.patient_name,\n",
        "        'diagnosis_code': item.diagnosis_code,\n",
        "        'procedure_code': item.procedure_code,\n",
        "        'total_charge': item.total_charge,\n",
        "        'insurance_claim_amount': item.insurance_claim_amount\n",
        "    })\n",
        "\n",
        "# Create a Pandas DataFrame from the list of dictionaries\n",
        "synthetic_df = pd.DataFrame(synthetic_data)\n",
        "\n",
        "# Display the DataFrame\n",
        "print(type(synthetic_df))\n",
        "synthetic_df"
      ],
      "metadata": {
        "colab": {
          "base_uri": "https://localhost:8080/",
          "height": 380
        },
        "id": "LLbrrDNMeQLe",
        "outputId": "223f0c2b-5796-42b1-fe93-a26795ce554b"
      },
      "id": "LLbrrDNMeQLe",
      "execution_count": null,
      "outputs": [
        {
          "output_type": "stream",
          "name": "stdout",
          "text": [
            "<class 'pandas.core.frame.DataFrame'>\n"
          ]
        },
        {
          "output_type": "execute_result",
          "data": {
            "text/plain": [
              "   patient_id     patient_name diagnosis_code procedure_code  total_charge  \\\n",
              "0      987654      Amy Johnson         C34.90          99204         400.0   \n",
              "1      123456  Sophia Martinez          A09.0          99215         500.0   \n",
              "2   123456789   Oliver Johnson          M54.5          99213         200.0   \n",
              "3   987654321     Xavier Smith            I10          99203         350.0   \n",
              "4   987654321     Emma Johnson          N18.9          99214         450.0   \n",
              "5   987654322  Elijah Thompson            G20          99215         500.0   \n",
              "6   123456789      Lila Cooper          J45.0          99204         400.0   \n",
              "7   987654321     Sophia Adams          E11.9          99213         350.0   \n",
              "8   987654321   Xavier Johnson            I10          99214         450.0   \n",
              "9   987654321     Oliver Smith          K35.9          99215         500.0   \n",
              "\n",
              "   insurance_claim_amount  \n",
              "0                   300.0  \n",
              "1                   400.0  \n",
              "2                   150.0  \n",
              "3                   250.0  \n",
              "4                   400.0  \n",
              "5                   450.0  \n",
              "6                   350.0  \n",
              "7                   300.0  \n",
              "8                   400.0  \n",
              "9                   450.0  "
            ],
            "text/html": [
              "\n",
              "  <div id=\"df-8cc20f25-399a-40f7-a1c2-61ef3a08ab18\" class=\"colab-df-container\">\n",
              "    <div>\n",
              "<style scoped>\n",
              "    .dataframe tbody tr th:only-of-type {\n",
              "        vertical-align: middle;\n",
              "    }\n",
              "\n",
              "    .dataframe tbody tr th {\n",
              "        vertical-align: top;\n",
              "    }\n",
              "\n",
              "    .dataframe thead th {\n",
              "        text-align: right;\n",
              "    }\n",
              "</style>\n",
              "<table border=\"1\" class=\"dataframe\">\n",
              "  <thead>\n",
              "    <tr style=\"text-align: right;\">\n",
              "      <th></th>\n",
              "      <th>patient_id</th>\n",
              "      <th>patient_name</th>\n",
              "      <th>diagnosis_code</th>\n",
              "      <th>procedure_code</th>\n",
              "      <th>total_charge</th>\n",
              "      <th>insurance_claim_amount</th>\n",
              "    </tr>\n",
              "  </thead>\n",
              "  <tbody>\n",
              "    <tr>\n",
              "      <th>0</th>\n",
              "      <td>987654</td>\n",
              "      <td>Amy Johnson</td>\n",
              "      <td>C34.90</td>\n",
              "      <td>99204</td>\n",
              "      <td>400.0</td>\n",
              "      <td>300.0</td>\n",
              "    </tr>\n",
              "    <tr>\n",
              "      <th>1</th>\n",
              "      <td>123456</td>\n",
              "      <td>Sophia Martinez</td>\n",
              "      <td>A09.0</td>\n",
              "      <td>99215</td>\n",
              "      <td>500.0</td>\n",
              "      <td>400.0</td>\n",
              "    </tr>\n",
              "    <tr>\n",
              "      <th>2</th>\n",
              "      <td>123456789</td>\n",
              "      <td>Oliver Johnson</td>\n",
              "      <td>M54.5</td>\n",
              "      <td>99213</td>\n",
              "      <td>200.0</td>\n",
              "      <td>150.0</td>\n",
              "    </tr>\n",
              "    <tr>\n",
              "      <th>3</th>\n",
              "      <td>987654321</td>\n",
              "      <td>Xavier Smith</td>\n",
              "      <td>I10</td>\n",
              "      <td>99203</td>\n",
              "      <td>350.0</td>\n",
              "      <td>250.0</td>\n",
              "    </tr>\n",
              "    <tr>\n",
              "      <th>4</th>\n",
              "      <td>987654321</td>\n",
              "      <td>Emma Johnson</td>\n",
              "      <td>N18.9</td>\n",
              "      <td>99214</td>\n",
              "      <td>450.0</td>\n",
              "      <td>400.0</td>\n",
              "    </tr>\n",
              "    <tr>\n",
              "      <th>5</th>\n",
              "      <td>987654322</td>\n",
              "      <td>Elijah Thompson</td>\n",
              "      <td>G20</td>\n",
              "      <td>99215</td>\n",
              "      <td>500.0</td>\n",
              "      <td>450.0</td>\n",
              "    </tr>\n",
              "    <tr>\n",
              "      <th>6</th>\n",
              "      <td>123456789</td>\n",
              "      <td>Lila Cooper</td>\n",
              "      <td>J45.0</td>\n",
              "      <td>99204</td>\n",
              "      <td>400.0</td>\n",
              "      <td>350.0</td>\n",
              "    </tr>\n",
              "    <tr>\n",
              "      <th>7</th>\n",
              "      <td>987654321</td>\n",
              "      <td>Sophia Adams</td>\n",
              "      <td>E11.9</td>\n",
              "      <td>99213</td>\n",
              "      <td>350.0</td>\n",
              "      <td>300.0</td>\n",
              "    </tr>\n",
              "    <tr>\n",
              "      <th>8</th>\n",
              "      <td>987654321</td>\n",
              "      <td>Xavier Johnson</td>\n",
              "      <td>I10</td>\n",
              "      <td>99214</td>\n",
              "      <td>450.0</td>\n",
              "      <td>400.0</td>\n",
              "    </tr>\n",
              "    <tr>\n",
              "      <th>9</th>\n",
              "      <td>987654321</td>\n",
              "      <td>Oliver Smith</td>\n",
              "      <td>K35.9</td>\n",
              "      <td>99215</td>\n",
              "      <td>500.0</td>\n",
              "      <td>450.0</td>\n",
              "    </tr>\n",
              "  </tbody>\n",
              "</table>\n",
              "</div>\n",
              "    <div class=\"colab-df-buttons\">\n",
              "\n",
              "  <div class=\"colab-df-container\">\n",
              "    <button class=\"colab-df-convert\" onclick=\"convertToInteractive('df-8cc20f25-399a-40f7-a1c2-61ef3a08ab18')\"\n",
              "            title=\"Convert this dataframe to an interactive table.\"\n",
              "            style=\"display:none;\">\n",
              "\n",
              "  <svg xmlns=\"http://www.w3.org/2000/svg\" height=\"24px\" viewBox=\"0 -960 960 960\">\n",
              "    <path d=\"M120-120v-720h720v720H120Zm60-500h600v-160H180v160Zm220 220h160v-160H400v160Zm0 220h160v-160H400v160ZM180-400h160v-160H180v160Zm440 0h160v-160H620v160ZM180-180h160v-160H180v160Zm440 0h160v-160H620v160Z\"/>\n",
              "  </svg>\n",
              "    </button>\n",
              "\n",
              "  <style>\n",
              "    .colab-df-container {\n",
              "      display:flex;\n",
              "      gap: 12px;\n",
              "    }\n",
              "\n",
              "    .colab-df-convert {\n",
              "      background-color: #E8F0FE;\n",
              "      border: none;\n",
              "      border-radius: 50%;\n",
              "      cursor: pointer;\n",
              "      display: none;\n",
              "      fill: #1967D2;\n",
              "      height: 32px;\n",
              "      padding: 0 0 0 0;\n",
              "      width: 32px;\n",
              "    }\n",
              "\n",
              "    .colab-df-convert:hover {\n",
              "      background-color: #E2EBFA;\n",
              "      box-shadow: 0px 1px 2px rgba(60, 64, 67, 0.3), 0px 1px 3px 1px rgba(60, 64, 67, 0.15);\n",
              "      fill: #174EA6;\n",
              "    }\n",
              "\n",
              "    .colab-df-buttons div {\n",
              "      margin-bottom: 4px;\n",
              "    }\n",
              "\n",
              "    [theme=dark] .colab-df-convert {\n",
              "      background-color: #3B4455;\n",
              "      fill: #D2E3FC;\n",
              "    }\n",
              "\n",
              "    [theme=dark] .colab-df-convert:hover {\n",
              "      background-color: #434B5C;\n",
              "      box-shadow: 0px 1px 3px 1px rgba(0, 0, 0, 0.15);\n",
              "      filter: drop-shadow(0px 1px 2px rgba(0, 0, 0, 0.3));\n",
              "      fill: #FFFFFF;\n",
              "    }\n",
              "  </style>\n",
              "\n",
              "    <script>\n",
              "      const buttonEl =\n",
              "        document.querySelector('#df-8cc20f25-399a-40f7-a1c2-61ef3a08ab18 button.colab-df-convert');\n",
              "      buttonEl.style.display =\n",
              "        google.colab.kernel.accessAllowed ? 'block' : 'none';\n",
              "\n",
              "      async function convertToInteractive(key) {\n",
              "        const element = document.querySelector('#df-8cc20f25-399a-40f7-a1c2-61ef3a08ab18');\n",
              "        const dataTable =\n",
              "          await google.colab.kernel.invokeFunction('convertToInteractive',\n",
              "                                                    [key], {});\n",
              "        if (!dataTable) return;\n",
              "\n",
              "        const docLinkHtml = 'Like what you see? Visit the ' +\n",
              "          '<a target=\"_blank\" href=https://colab.research.google.com/notebooks/data_table.ipynb>data table notebook</a>'\n",
              "          + ' to learn more about interactive tables.';\n",
              "        element.innerHTML = '';\n",
              "        dataTable['output_type'] = 'display_data';\n",
              "        await google.colab.output.renderOutput(dataTable, element);\n",
              "        const docLink = document.createElement('div');\n",
              "        docLink.innerHTML = docLinkHtml;\n",
              "        element.appendChild(docLink);\n",
              "      }\n",
              "    </script>\n",
              "  </div>\n",
              "\n",
              "\n",
              "<div id=\"df-17dc42af-0fcc-4fbb-b3e1-74897232cd35\">\n",
              "  <button class=\"colab-df-quickchart\" onclick=\"quickchart('df-17dc42af-0fcc-4fbb-b3e1-74897232cd35')\"\n",
              "            title=\"Suggest charts.\"\n",
              "            style=\"display:none;\">\n",
              "\n",
              "<svg xmlns=\"http://www.w3.org/2000/svg\" height=\"24px\"viewBox=\"0 0 24 24\"\n",
              "     width=\"24px\">\n",
              "    <g>\n",
              "        <path d=\"M19 3H5c-1.1 0-2 .9-2 2v14c0 1.1.9 2 2 2h14c1.1 0 2-.9 2-2V5c0-1.1-.9-2-2-2zM9 17H7v-7h2v7zm4 0h-2V7h2v10zm4 0h-2v-4h2v4z\"/>\n",
              "    </g>\n",
              "</svg>\n",
              "  </button>\n",
              "\n",
              "<style>\n",
              "  .colab-df-quickchart {\n",
              "      --bg-color: #E8F0FE;\n",
              "      --fill-color: #1967D2;\n",
              "      --hover-bg-color: #E2EBFA;\n",
              "      --hover-fill-color: #174EA6;\n",
              "      --disabled-fill-color: #AAA;\n",
              "      --disabled-bg-color: #DDD;\n",
              "  }\n",
              "\n",
              "  [theme=dark] .colab-df-quickchart {\n",
              "      --bg-color: #3B4455;\n",
              "      --fill-color: #D2E3FC;\n",
              "      --hover-bg-color: #434B5C;\n",
              "      --hover-fill-color: #FFFFFF;\n",
              "      --disabled-bg-color: #3B4455;\n",
              "      --disabled-fill-color: #666;\n",
              "  }\n",
              "\n",
              "  .colab-df-quickchart {\n",
              "    background-color: var(--bg-color);\n",
              "    border: none;\n",
              "    border-radius: 50%;\n",
              "    cursor: pointer;\n",
              "    display: none;\n",
              "    fill: var(--fill-color);\n",
              "    height: 32px;\n",
              "    padding: 0;\n",
              "    width: 32px;\n",
              "  }\n",
              "\n",
              "  .colab-df-quickchart:hover {\n",
              "    background-color: var(--hover-bg-color);\n",
              "    box-shadow: 0 1px 2px rgba(60, 64, 67, 0.3), 0 1px 3px 1px rgba(60, 64, 67, 0.15);\n",
              "    fill: var(--button-hover-fill-color);\n",
              "  }\n",
              "\n",
              "  .colab-df-quickchart-complete:disabled,\n",
              "  .colab-df-quickchart-complete:disabled:hover {\n",
              "    background-color: var(--disabled-bg-color);\n",
              "    fill: var(--disabled-fill-color);\n",
              "    box-shadow: none;\n",
              "  }\n",
              "\n",
              "  .colab-df-spinner {\n",
              "    border: 2px solid var(--fill-color);\n",
              "    border-color: transparent;\n",
              "    border-bottom-color: var(--fill-color);\n",
              "    animation:\n",
              "      spin 1s steps(1) infinite;\n",
              "  }\n",
              "\n",
              "  @keyframes spin {\n",
              "    0% {\n",
              "      border-color: transparent;\n",
              "      border-bottom-color: var(--fill-color);\n",
              "      border-left-color: var(--fill-color);\n",
              "    }\n",
              "    20% {\n",
              "      border-color: transparent;\n",
              "      border-left-color: var(--fill-color);\n",
              "      border-top-color: var(--fill-color);\n",
              "    }\n",
              "    30% {\n",
              "      border-color: transparent;\n",
              "      border-left-color: var(--fill-color);\n",
              "      border-top-color: var(--fill-color);\n",
              "      border-right-color: var(--fill-color);\n",
              "    }\n",
              "    40% {\n",
              "      border-color: transparent;\n",
              "      border-right-color: var(--fill-color);\n",
              "      border-top-color: var(--fill-color);\n",
              "    }\n",
              "    60% {\n",
              "      border-color: transparent;\n",
              "      border-right-color: var(--fill-color);\n",
              "    }\n",
              "    80% {\n",
              "      border-color: transparent;\n",
              "      border-right-color: var(--fill-color);\n",
              "      border-bottom-color: var(--fill-color);\n",
              "    }\n",
              "    90% {\n",
              "      border-color: transparent;\n",
              "      border-bottom-color: var(--fill-color);\n",
              "    }\n",
              "  }\n",
              "</style>\n",
              "\n",
              "  <script>\n",
              "    async function quickchart(key) {\n",
              "      const quickchartButtonEl =\n",
              "        document.querySelector('#' + key + ' button');\n",
              "      quickchartButtonEl.disabled = true;  // To prevent multiple clicks.\n",
              "      quickchartButtonEl.classList.add('colab-df-spinner');\n",
              "      try {\n",
              "        const charts = await google.colab.kernel.invokeFunction(\n",
              "            'suggestCharts', [key], {});\n",
              "      } catch (error) {\n",
              "        console.error('Error during call to suggestCharts:', error);\n",
              "      }\n",
              "      quickchartButtonEl.classList.remove('colab-df-spinner');\n",
              "      quickchartButtonEl.classList.add('colab-df-quickchart-complete');\n",
              "    }\n",
              "    (() => {\n",
              "      let quickchartButtonEl =\n",
              "        document.querySelector('#df-17dc42af-0fcc-4fbb-b3e1-74897232cd35 button');\n",
              "      quickchartButtonEl.style.display =\n",
              "        google.colab.kernel.accessAllowed ? 'block' : 'none';\n",
              "    })();\n",
              "  </script>\n",
              "</div>\n",
              "    </div>\n",
              "  </div>\n"
            ]
          },
          "metadata": {},
          "execution_count": 22
        }
      ]
    },
    {
      "cell_type": "code",
      "source": [
        "synthetic_df.shape"
      ],
      "metadata": {
        "colab": {
          "base_uri": "https://localhost:8080/"
        },
        "id": "3z0FY1xEe81v",
        "outputId": "614c2dee-388c-4efd-b1e0-16256c2347fb"
      },
      "id": "3z0FY1xEe81v",
      "execution_count": null,
      "outputs": [
        {
          "output_type": "execute_result",
          "data": {
            "text/plain": [
              "(10, 6)"
            ]
          },
          "metadata": {},
          "execution_count": 24
        }
      ]
    },
    {
      "cell_type": "markdown",
      "source": [
        "### Start exploring based on your usecase and use the same approach for real sensitive data. But, be careful, as the synthetic data might not capture the real-world complexities."
      ],
      "metadata": {
        "id": "pYsSc2jcfr6R"
      },
      "id": "pYsSc2jcfr6R"
    }
  ],
  "metadata": {
    "kernelspec": {
      "display_name": "Python 3 (ipykernel)",
      "language": "python",
      "name": "python3"
    },
    "language_info": {
      "codemirror_mode": {
        "name": "ipython",
        "version": 3
      },
      "file_extension": ".py",
      "mimetype": "text/x-python",
      "name": "python",
      "nbconvert_exporter": "python",
      "pygments_lexer": "ipython3",
      "version": "3.9.1"
    },
    "colab": {
      "provenance": [],
      "include_colab_link": true
    }
  },
  "nbformat": 4,
  "nbformat_minor": 5
}